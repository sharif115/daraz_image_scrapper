{
 "cells": [
  {
   "cell_type": "markdown",
   "id": "21bf32b2-efb8-4468-b39b-28d61f470ecf",
   "metadata": {},
   "source": [
    "##Daraz Headphone Image Scraper using Selenium and WebDriver Manager\n",
    "##Author: M. Shariful Islam\n",
    "##Date: May 2025\n",
    "##Description: This script scrapes product images (headphones) from daraz.com.bd \n",
    "##using Selenium with Chrome and saves them locally.\n",
    "##It is designed for educational use and GitHub submission."
   ]
  },
  {
   "cell_type": "code",
   "execution_count": 5,
   "id": "cdf9a1ef-81a6-41db-8b44-b2c51870f23e",
   "metadata": {},
   "outputs": [
    {
     "name": "stdout",
     "output_type": "stream",
     "text": [
      "🖼️ Found 66 image tags. Saving up to 50 images...\n"
     ]
    },
    {
     "name": "stderr",
     "output_type": "stream",
     "text": [
      "100%|██████████| 66/66 [00:34<00:00,  1.89it/s]\n"
     ]
    },
    {
     "name": "stdout",
     "output_type": "stream",
     "text": [
      "\n",
      " Done! 29 images saved in folder: daraz_images_headphone/\n"
     ]
    }
   ],
   "source": [
    "import os\n",
    "import time\n",
    "import requests\n",
    "from tqdm import tqdm\n",
    "from selenium import webdriver\n",
    "from selenium.webdriver.chrome.service import Service\n",
    "from selenium.webdriver.chrome.options import Options\n",
    "from selenium.webdriver.common.by import By\n",
    "from webdriver_manager.chrome import ChromeDriverManager\n",
    "\n",
    "# ----- CONFIGURATION -----\n",
    "search_term = \"headphone\"  # Product to search\n",
    "max_images = 50            # Number of images to download\n",
    "folder_name = f\"daraz_images_{search_term}\"  # Output folder\n",
    "\n",
    "# ----- SETUP SELENIUM -----\n",
    "options = Options()\n",
    "options.add_argument(\"--headless\")  # Run without UI\n",
    "options.add_argument(\"--no-sandbox\") # Disable sandbox (for Linux/colab)\n",
    "options.add_argument(\"--disable-dev-shm-usage\") # Avoid shared memory issues\n",
    "\n",
    "# Automatically install the correct ChromeDriver\n",
    "driver = webdriver.Chrome(\n",
    "    service=Service(ChromeDriverManager().install()),\n",
    "    options=options\n",
    ")\n",
    "# -----------------------------\n",
    "# OPEN DARAZ AND SEARCH\n",
    "# -----------------------------\n",
    "\n",
    "# Build the search URL\n",
    "url = f\"https://www.daraz.com.bd/catalog/?q={search_term}\"\n",
    "driver.get(url)\n",
    "time.sleep(5)  # Wait for JavaScript to load\n",
    "\n",
    "# Scroll to load more content\n",
    "driver.execute_script(\"window.scrollTo(0, document.body.scrollHeight);\")\n",
    "time.sleep(3)\n",
    "\n",
    "# ----- SCRAPE IMAGES -----\n",
    "images = driver.find_elements(By.TAG_NAME, \"img\")\n",
    "\n",
    "# Create output folder\n",
    "os.makedirs(folder_name, exist_ok=True)\n",
    "count = 0\n",
    "\n",
    "print(f\"🖼️ Found {len(images)} image tags. Saving up to {max_images} images...\")\n",
    "\n",
    "# Download loop\n",
    "# Loop through found images\n",
    "for img in tqdm(images):\n",
    "    # Try to get src or data-src attribute\n",
    "    img_url = img.get_attribute(\"src\") or img.get_attribute(\"data-src\")\n",
    "    # Only process valid image URLs\n",
    "    if img_url and img_url.startswith(\"http\"):\n",
    "        try:\n",
    "            # Fetch image bytes\n",
    "            img_data = requests.get(img_url).content\n",
    "            # Save to file\n",
    "            with open(f\"{folder_name}/image_{count}.jpg\", \"wb\") as f:\n",
    "                f.write(img_data)\n",
    "            \n",
    "            # Update count\n",
    "            count += 1\n",
    "            time.sleep(1)  # Be polite to the server\n",
    "            # Stop if limit reached\n",
    "            if count >= max_images:\n",
    "                break\n",
    "        except Exception as e:\n",
    "            print(f\" Error downloading image {count}: {e}\")\n",
    "# Close the browser\n",
    "driver.quit()\n",
    "# Final message\n",
    "print(f\"\\n Done! {count} images saved in folder: {folder_name}/\")"
   ]
  },
  {
   "cell_type": "code",
   "execution_count": null,
   "id": "f2fd3945-77f7-4147-b21d-ee22e42cb301",
   "metadata": {},
   "outputs": [],
   "source": []
  }
 ],
 "metadata": {
  "kernelspec": {
   "display_name": "Python 3 (ipykernel)",
   "language": "python",
   "name": "python3"
  },
  "language_info": {
   "codemirror_mode": {
    "name": "ipython",
    "version": 3
   },
   "file_extension": ".py",
   "mimetype": "text/x-python",
   "name": "python",
   "nbconvert_exporter": "python",
   "pygments_lexer": "ipython3",
   "version": "3.12.7"
  }
 },
 "nbformat": 4,
 "nbformat_minor": 5
}
